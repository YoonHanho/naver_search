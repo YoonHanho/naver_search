{
 "cells": [
  {
   "cell_type": "markdown",
   "metadata": {},
   "source": [
    "# 네이버 실시간 검색 30위 크롤링\n",
    "1. 네이버 실시간 검색 순위 크롤링(1시간마다 반복)\n",
    "2. SQL로 저장 \n",
    "3. 종목별 순위 변동 차트로 구성\n",
    "* 크롤링 사이트 : http://finance.naver.com/sise/lastsearch2.nhn"
   ]
  },
  {
   "cell_type": "code",
   "execution_count": 1,
   "metadata": {
    "collapsed": true
   },
   "outputs": [],
   "source": [
    "import numpy as np\n",
    "import pandas as pd\n",
    "import pandas.io.sql as sql\n",
    "from pandas import DataFrame, Series\n",
    "\n",
    "from lxml import html, cssselect\n",
    "import requests\n",
    "\n",
    "import sqlite3\n",
    "\n",
    "from datetime import datetime\n",
    "import time\n",
    "\n",
    "import matplotlib\n",
    "from matplotlib import pyplot as plt\n",
    "from matplotlib import rcParams, style\n",
    "style.use('ggplot')\n",
    "matplotlib.rc('font', family='Malgun Gothic')\n",
    "% matplotlib inline"
   ]
  },
  {
   "cell_type": "code",
   "execution_count": 2,
   "metadata": {},
   "outputs": [
    {
     "data": {
      "text/plain": [
       "'\\nquery = \"\"\"\\nCREATE TABLE naver_stock_rank\\n(date VARCHAR(20), rank INTEGER,\\n stock VARCHAR(30)\\n);\"\"\"\\ncon.execute(query)\\ncon.commit()\\n'"
      ]
     },
     "execution_count": 2,
     "metadata": {},
     "output_type": "execute_result"
    }
   ],
   "source": [
    "'''\n",
    "== 파이썬 3.x 버젼으로 작성 ==\n",
    "\n",
    "== 로직 ==\n",
    "1. 네이버증권 실시간 검색 상위 30종목 한시간 단위로 크롤링\n",
    "2. SQL 데이터 베이스에 저장\n",
    "(X 30회 반복)\n",
    "   \n",
    "3. 상위종목별 시간대별 순위변동 및 주가 차트 구성\n",
    "'''\n",
    "\n",
    "\n",
    "''' 결과물 저장할 쿼리 테이블 생성 '''\n",
    "con = sqlite3.connect('naver_db.sqlite')\n",
    "\n",
    "'''\n",
    "query = \"\"\"\n",
    "CREATE TABLE naver_stock_rank\n",
    "(date VARCHAR(20), rank INTEGER,\n",
    " stock VARCHAR(30)\n",
    ");\"\"\"\n",
    "con.execute(query)\n",
    "con.commit()\n",
    "'''\n",
    "\n",
    "# 테이블 삭제코드\n",
    "# query = \"\"\" DROP Table if Exists \"naver_stock_rank\" \"\"\"\n",
    "#con.execute(query)\n",
    "#con.commit()"
   ]
  },
  {
   "cell_type": "code",
   "execution_count": null,
   "metadata": {
    "collapsed": true
   },
   "outputs": [],
   "source": [
    "''' 네이버 증권 검색 '''\n",
    "def url_elem(u):\n",
    "    url = u\n",
    "    resp = requests.get(url)\n",
    "    return html.fromstring(resp.text)\n",
    "    \n",
    "def naver_db():\n",
    "    elem = url_elem('http://finance.naver.com/sise/lastsearch2.nhn')\n",
    "        \n",
    "    st = []\n",
    "    for i in elem.cssselect('a.tltle'):  \n",
    "        if i.text_content() != '':   \n",
    "            st.append(i.text_content().strip())\n",
    "                \n",
    "    # 검색시간\n",
    "    today = datetime.today()\n",
    "    dt = today.strftime('%Y-%m-%d %H:%M:%S')\n",
    "    \n",
    "    # 순위(30개 수집 안되는 경우도 있을 수 있음. ex: 새벽\n",
    "    # N = np.arange(1,31)\n",
    "    N = np.arange(1,len(st)+1)\n",
    "    \n",
    "    # return DataFrame({'date':[dt] * 30, 'rank':N, 'stock':st}) # , index=None, columns=None)\n",
    "    return DataFrame({'date':[dt] * len(st), 'rank':N, 'stock':st}) # , index=None, columns=None)\n",
    "\n",
    "for i in range(8460):  # 1년: 시작일자 2017.04.14 8:38분\n",
    "    try:\n",
    "        df = naver_db()\n",
    "        \n",
    "        # 테이블 insert\n",
    "        # https://www.ryanbaumann.com/blog/2016/4/30/python-pandas-tosql-only-insert-new-rows\n",
    "        df.to_sql('naver_stock_rank', con, if_exists='append', index=False)\n",
    "        \n",
    "    except:\n",
    "        print(\"################\")\n",
    "        print(\"웹 크롤링 오류 : 작업시간\")\n",
    "        print(datetime.today().strftime('%Y-%m-%d %H:%M:%S'))\n",
    "        print(\"################\")\n",
    "      \n",
    "    time.sleep(3600) # 1시간 지연"
   ]
  },
  {
   "cell_type": "code",
   "execution_count": 3,
   "metadata": {},
   "outputs": [
    {
     "data": {
      "text/html": [
       "<div>\n",
       "<table border=\"1\" class=\"dataframe\">\n",
       "  <thead>\n",
       "    <tr style=\"text-align: right;\">\n",
       "      <th></th>\n",
       "      <th>date</th>\n",
       "      <th>rank</th>\n",
       "      <th>stock</th>\n",
       "      <th>rank_new</th>\n",
       "    </tr>\n",
       "  </thead>\n",
       "  <tbody>\n",
       "    <tr>\n",
       "      <th>0</th>\n",
       "      <td>2017-03-30 09:45:35</td>\n",
       "      <td>1</td>\n",
       "      <td>미래산업</td>\n",
       "      <td>30</td>\n",
       "    </tr>\n",
       "    <tr>\n",
       "      <th>1</th>\n",
       "      <td>2017-03-30 09:45:35</td>\n",
       "      <td>2</td>\n",
       "      <td>안랩</td>\n",
       "      <td>29</td>\n",
       "    </tr>\n",
       "    <tr>\n",
       "      <th>2</th>\n",
       "      <td>2017-03-30 09:45:35</td>\n",
       "      <td>3</td>\n",
       "      <td>LG전자</td>\n",
       "      <td>28</td>\n",
       "    </tr>\n",
       "    <tr>\n",
       "      <th>3</th>\n",
       "      <td>2017-03-30 09:45:35</td>\n",
       "      <td>4</td>\n",
       "      <td>우리들제약</td>\n",
       "      <td>27</td>\n",
       "    </tr>\n",
       "    <tr>\n",
       "      <th>4</th>\n",
       "      <td>2017-03-30 09:45:35</td>\n",
       "      <td>5</td>\n",
       "      <td>아남전자</td>\n",
       "      <td>26</td>\n",
       "    </tr>\n",
       "  </tbody>\n",
       "</table>\n",
       "</div>"
      ],
      "text/plain": [
       "                  date  rank  stock  rank_new\n",
       "0  2017-03-30 09:45:35     1   미래산업        30\n",
       "1  2017-03-30 09:45:35     2     안랩        29\n",
       "2  2017-03-30 09:45:35     3   LG전자        28\n",
       "3  2017-03-30 09:45:35     4  우리들제약        27\n",
       "4  2017-03-30 09:45:35     5   아남전자        26"
      ]
     },
     "execution_count": 3,
     "metadata": {},
     "output_type": "execute_result"
    }
   ],
   "source": [
    "'''\n",
    "특정 종목 시간별 순위 차트 그리기\n",
    "rank 값 변환 1위 -> 30위로 ...\n",
    "'''\n",
    "# 테이블 읽기\n",
    "df_final = pd.read_sql('select * from naver_stock_rank', con)\n",
    "df_final['rank_new'] = 31 - df_final['rank']\n",
    "df_final.head()"
   ]
  },
  {
   "cell_type": "code",
   "execution_count": 54,
   "metadata": {},
   "outputs": [
    {
     "data": {
      "text/html": [
       "<div>\n",
       "<table border=\"1\" class=\"dataframe\">\n",
       "  <thead>\n",
       "    <tr style=\"text-align: right;\">\n",
       "      <th></th>\n",
       "      <th>date</th>\n",
       "      <th>rank</th>\n",
       "      <th>stock</th>\n",
       "      <th>rank_new</th>\n",
       "    </tr>\n",
       "  </thead>\n",
       "  <tbody>\n",
       "    <tr>\n",
       "      <th>19944</th>\n",
       "      <td>2017-05-08 14:37:30</td>\n",
       "      <td>30</td>\n",
       "      <td>삼부토건</td>\n",
       "      <td>1</td>\n",
       "    </tr>\n",
       "    <tr>\n",
       "      <th>19945</th>\n",
       "      <td>2017-05-08 15:37:30</td>\n",
       "      <td>1</td>\n",
       "      <td>삼성전자</td>\n",
       "      <td>30</td>\n",
       "    </tr>\n",
       "    <tr>\n",
       "      <th>19946</th>\n",
       "      <td>2017-05-08 15:37:30</td>\n",
       "      <td>2</td>\n",
       "      <td>LG전자</td>\n",
       "      <td>29</td>\n",
       "    </tr>\n",
       "    <tr>\n",
       "      <th>19947</th>\n",
       "      <td>2017-05-08 15:37:30</td>\n",
       "      <td>3</td>\n",
       "      <td>안랩</td>\n",
       "      <td>28</td>\n",
       "    </tr>\n",
       "    <tr>\n",
       "      <th>19948</th>\n",
       "      <td>2017-05-08 15:37:30</td>\n",
       "      <td>4</td>\n",
       "      <td>SK하이닉스</td>\n",
       "      <td>27</td>\n",
       "    </tr>\n",
       "    <tr>\n",
       "      <th>19949</th>\n",
       "      <td>2017-05-08 15:37:30</td>\n",
       "      <td>5</td>\n",
       "      <td>한미약품</td>\n",
       "      <td>26</td>\n",
       "    </tr>\n",
       "    <tr>\n",
       "      <th>19950</th>\n",
       "      <td>2017-05-08 15:37:30</td>\n",
       "      <td>6</td>\n",
       "      <td>크린앤사이언스</td>\n",
       "      <td>25</td>\n",
       "    </tr>\n",
       "    <tr>\n",
       "      <th>19951</th>\n",
       "      <td>2017-05-08 15:37:30</td>\n",
       "      <td>7</td>\n",
       "      <td>셀트리온</td>\n",
       "      <td>24</td>\n",
       "    </tr>\n",
       "    <tr>\n",
       "      <th>19952</th>\n",
       "      <td>2017-05-08 15:37:30</td>\n",
       "      <td>8</td>\n",
       "      <td>아모레퍼시픽</td>\n",
       "      <td>23</td>\n",
       "    </tr>\n",
       "    <tr>\n",
       "      <th>19953</th>\n",
       "      <td>2017-05-08 15:37:30</td>\n",
       "      <td>9</td>\n",
       "      <td>기아차</td>\n",
       "      <td>22</td>\n",
       "    </tr>\n",
       "    <tr>\n",
       "      <th>19954</th>\n",
       "      <td>2017-05-08 15:37:30</td>\n",
       "      <td>10</td>\n",
       "      <td>현대차</td>\n",
       "      <td>21</td>\n",
       "    </tr>\n",
       "    <tr>\n",
       "      <th>19955</th>\n",
       "      <td>2017-05-08 15:37:30</td>\n",
       "      <td>11</td>\n",
       "      <td>영진약품</td>\n",
       "      <td>20</td>\n",
       "    </tr>\n",
       "    <tr>\n",
       "      <th>19956</th>\n",
       "      <td>2017-05-08 15:37:30</td>\n",
       "      <td>12</td>\n",
       "      <td>DSR</td>\n",
       "      <td>19</td>\n",
       "    </tr>\n",
       "    <tr>\n",
       "      <th>19957</th>\n",
       "      <td>2017-05-08 15:37:30</td>\n",
       "      <td>13</td>\n",
       "      <td>NAVER</td>\n",
       "      <td>18</td>\n",
       "    </tr>\n",
       "    <tr>\n",
       "      <th>19958</th>\n",
       "      <td>2017-05-08 15:37:30</td>\n",
       "      <td>14</td>\n",
       "      <td>현대모비스</td>\n",
       "      <td>17</td>\n",
       "    </tr>\n",
       "    <tr>\n",
       "      <th>19959</th>\n",
       "      <td>2017-05-08 15:37:30</td>\n",
       "      <td>15</td>\n",
       "      <td>호텔신라</td>\n",
       "      <td>16</td>\n",
       "    </tr>\n",
       "    <tr>\n",
       "      <th>19960</th>\n",
       "      <td>2017-05-08 15:37:30</td>\n",
       "      <td>16</td>\n",
       "      <td>아남전자</td>\n",
       "      <td>15</td>\n",
       "    </tr>\n",
       "    <tr>\n",
       "      <th>19961</th>\n",
       "      <td>2017-05-08 15:37:30</td>\n",
       "      <td>17</td>\n",
       "      <td>한국전력</td>\n",
       "      <td>14</td>\n",
       "    </tr>\n",
       "    <tr>\n",
       "      <th>19962</th>\n",
       "      <td>2017-05-08 15:37:30</td>\n",
       "      <td>18</td>\n",
       "      <td>삼성물산</td>\n",
       "      <td>13</td>\n",
       "    </tr>\n",
       "    <tr>\n",
       "      <th>19963</th>\n",
       "      <td>2017-05-08 15:37:30</td>\n",
       "      <td>19</td>\n",
       "      <td>현대상선</td>\n",
       "      <td>12</td>\n",
       "    </tr>\n",
       "    <tr>\n",
       "      <th>19964</th>\n",
       "      <td>2017-05-08 15:37:30</td>\n",
       "      <td>20</td>\n",
       "      <td>우리들제약</td>\n",
       "      <td>11</td>\n",
       "    </tr>\n",
       "    <tr>\n",
       "      <th>19965</th>\n",
       "      <td>2017-05-08 15:37:30</td>\n",
       "      <td>21</td>\n",
       "      <td>와이제이엠게임즈</td>\n",
       "      <td>10</td>\n",
       "    </tr>\n",
       "    <tr>\n",
       "      <th>19966</th>\n",
       "      <td>2017-05-08 15:37:30</td>\n",
       "      <td>22</td>\n",
       "      <td>카카오</td>\n",
       "      <td>9</td>\n",
       "    </tr>\n",
       "    <tr>\n",
       "      <th>19967</th>\n",
       "      <td>2017-05-08 15:37:30</td>\n",
       "      <td>23</td>\n",
       "      <td>엔씨소프트</td>\n",
       "      <td>8</td>\n",
       "    </tr>\n",
       "    <tr>\n",
       "      <th>19968</th>\n",
       "      <td>2017-05-08 15:37:30</td>\n",
       "      <td>24</td>\n",
       "      <td>삼성전기</td>\n",
       "      <td>7</td>\n",
       "    </tr>\n",
       "    <tr>\n",
       "      <th>19969</th>\n",
       "      <td>2017-05-08 15:37:30</td>\n",
       "      <td>25</td>\n",
       "      <td>POSCO</td>\n",
       "      <td>6</td>\n",
       "    </tr>\n",
       "    <tr>\n",
       "      <th>19970</th>\n",
       "      <td>2017-05-08 15:37:30</td>\n",
       "      <td>26</td>\n",
       "      <td>이엘케이</td>\n",
       "      <td>5</td>\n",
       "    </tr>\n",
       "    <tr>\n",
       "      <th>19971</th>\n",
       "      <td>2017-05-08 15:37:30</td>\n",
       "      <td>27</td>\n",
       "      <td>KB금융</td>\n",
       "      <td>4</td>\n",
       "    </tr>\n",
       "    <tr>\n",
       "      <th>19972</th>\n",
       "      <td>2017-05-08 15:37:30</td>\n",
       "      <td>28</td>\n",
       "      <td>써니전자</td>\n",
       "      <td>3</td>\n",
       "    </tr>\n",
       "    <tr>\n",
       "      <th>19973</th>\n",
       "      <td>2017-05-08 15:37:30</td>\n",
       "      <td>29</td>\n",
       "      <td>디아이</td>\n",
       "      <td>2</td>\n",
       "    </tr>\n",
       "    <tr>\n",
       "      <th>19974</th>\n",
       "      <td>2017-05-08 15:37:30</td>\n",
       "      <td>30</td>\n",
       "      <td>삼부토건</td>\n",
       "      <td>1</td>\n",
       "    </tr>\n",
       "  </tbody>\n",
       "</table>\n",
       "</div>"
      ],
      "text/plain": [
       "                      date  rank     stock  rank_new\n",
       "19944  2017-05-08 14:37:30    30      삼부토건         1\n",
       "19945  2017-05-08 15:37:30     1      삼성전자        30\n",
       "19946  2017-05-08 15:37:30     2      LG전자        29\n",
       "19947  2017-05-08 15:37:30     3        안랩        28\n",
       "19948  2017-05-08 15:37:30     4    SK하이닉스        27\n",
       "19949  2017-05-08 15:37:30     5      한미약품        26\n",
       "19950  2017-05-08 15:37:30     6   크린앤사이언스        25\n",
       "19951  2017-05-08 15:37:30     7      셀트리온        24\n",
       "19952  2017-05-08 15:37:30     8    아모레퍼시픽        23\n",
       "19953  2017-05-08 15:37:30     9       기아차        22\n",
       "19954  2017-05-08 15:37:30    10       현대차        21\n",
       "19955  2017-05-08 15:37:30    11      영진약품        20\n",
       "19956  2017-05-08 15:37:30    12       DSR        19\n",
       "19957  2017-05-08 15:37:30    13     NAVER        18\n",
       "19958  2017-05-08 15:37:30    14     현대모비스        17\n",
       "19959  2017-05-08 15:37:30    15      호텔신라        16\n",
       "19960  2017-05-08 15:37:30    16      아남전자        15\n",
       "19961  2017-05-08 15:37:30    17      한국전력        14\n",
       "19962  2017-05-08 15:37:30    18      삼성물산        13\n",
       "19963  2017-05-08 15:37:30    19      현대상선        12\n",
       "19964  2017-05-08 15:37:30    20     우리들제약        11\n",
       "19965  2017-05-08 15:37:30    21  와이제이엠게임즈        10\n",
       "19966  2017-05-08 15:37:30    22       카카오         9\n",
       "19967  2017-05-08 15:37:30    23     엔씨소프트         8\n",
       "19968  2017-05-08 15:37:30    24      삼성전기         7\n",
       "19969  2017-05-08 15:37:30    25     POSCO         6\n",
       "19970  2017-05-08 15:37:30    26      이엘케이         5\n",
       "19971  2017-05-08 15:37:30    27      KB금융         4\n",
       "19972  2017-05-08 15:37:30    28      써니전자         3\n",
       "19973  2017-05-08 15:37:30    29       디아이         2\n",
       "19974  2017-05-08 15:37:30    30      삼부토건         1"
      ]
     },
     "execution_count": 54,
     "metadata": {},
     "output_type": "execute_result"
    }
   ],
   "source": [
    "df_final.tail(31)"
   ]
  },
  {
   "cell_type": "code",
   "execution_count": 6,
   "metadata": {},
   "outputs": [
    {
     "data": {
      "text/html": [
       "<div>\n",
       "<table border=\"1\" class=\"dataframe\">\n",
       "  <thead>\n",
       "    <tr style=\"text-align: right;\">\n",
       "      <th></th>\n",
       "      <th>rank</th>\n",
       "      <th>rank_new</th>\n",
       "    </tr>\n",
       "  </thead>\n",
       "  <tbody>\n",
       "    <tr>\n",
       "      <th>count</th>\n",
       "      <td>19975.0</td>\n",
       "      <td>19975.0</td>\n",
       "    </tr>\n",
       "    <tr>\n",
       "      <th>mean</th>\n",
       "      <td>15.5</td>\n",
       "      <td>15.5</td>\n",
       "    </tr>\n",
       "    <tr>\n",
       "      <th>std</th>\n",
       "      <td>8.6</td>\n",
       "      <td>8.6</td>\n",
       "    </tr>\n",
       "    <tr>\n",
       "      <th>min</th>\n",
       "      <td>1.0</td>\n",
       "      <td>1.0</td>\n",
       "    </tr>\n",
       "    <tr>\n",
       "      <th>25%</th>\n",
       "      <td>8.0</td>\n",
       "      <td>8.0</td>\n",
       "    </tr>\n",
       "    <tr>\n",
       "      <th>50%</th>\n",
       "      <td>15.0</td>\n",
       "      <td>16.0</td>\n",
       "    </tr>\n",
       "    <tr>\n",
       "      <th>75%</th>\n",
       "      <td>23.0</td>\n",
       "      <td>23.0</td>\n",
       "    </tr>\n",
       "    <tr>\n",
       "      <th>max</th>\n",
       "      <td>30.0</td>\n",
       "      <td>30.0</td>\n",
       "    </tr>\n",
       "  </tbody>\n",
       "</table>\n",
       "</div>"
      ],
      "text/plain": [
       "          rank  rank_new\n",
       "count  19975.0   19975.0\n",
       "mean      15.5      15.5\n",
       "std        8.6       8.6\n",
       "min        1.0       1.0\n",
       "25%        8.0       8.0\n",
       "50%       15.0      16.0\n",
       "75%       23.0      23.0\n",
       "max       30.0      30.0"
      ]
     },
     "execution_count": 6,
     "metadata": {},
     "output_type": "execute_result"
    }
   ],
   "source": [
    "df_final.describe().round(1)"
   ]
  },
  {
   "cell_type": "code",
   "execution_count": 7,
   "metadata": {},
   "outputs": [
    {
     "data": {
      "text/plain": [
       "<matplotlib.axes._subplots.AxesSubplot at 0xac06160>"
      ]
     },
     "execution_count": 7,
     "metadata": {},
     "output_type": "execute_result"
    },
    {
     "data": {
      "image/png": "[encoded data removed]",
      "text/plain": [
       "<matplotlib.figure.Figure at 0xabdbdd8>"
      ]
     },
     "metadata": {},
     "output_type": "display_data"
    }
   ],
   "source": [
    "'''종목별 30시간 동안 실검 30위에 머문 횟수(상위 30종목)'''\n",
    "df_final['stock'].value_counts()[:30].plot(kind='barh', alpha=0.5, figsize=(8,6))"
   ]
  },
  {
   "cell_type": "code",
   "execution_count": 48,
   "metadata": {},
   "outputs": [],
   "source": [
    "'''종목별 시계열 차트 : 최근 10일 '''\n",
    "def time_chart(stock_nm):\n",
    "    #1. 모든 시간대 포함 마스터 만들기\n",
    "    ser_2 = Series([100]*len(df_final['date'].value_counts()))\n",
    "    ser_2.index = pd.to_datetime(df_final['date'].value_counts().index)\n",
    "    ser_2.name = 'rank_opt'\n",
    "\n",
    "    #2. 특정 종목 건수 만들기\n",
    "    df_stock = df_final[ df_final['stock'] == stock_nm ]\n",
    "    ser = Series(df_stock['rank_new'])\n",
    "    ser.index = pd.to_datetime(df_stock['date'])\n",
    "\n",
    "    #3. 결측값(30위권 밖)인 경우 0으로 보정하기\n",
    "    df_fff = pd.concat([ser_2,ser], axis=1)\n",
    "    df_fff.drop(['rank_opt'], axis=1, inplace=True)\n",
    "    df_fff.fillna(0, inplace=True)\n",
    "    # print( df_fff.tail(10) )\n",
    "\n",
    "    # df_fff.index\n",
    "    df_ch = df_fff.tail(240)   ############ 최근 10일(240시간)\n",
    "    fig, ax = plt.subplots(figsize=(20,4))\n",
    "\n",
    "    ax.bar(df_ch.index, df_ch['rank_new'], width=0.05, alpha=0.5)\n",
    "    ax.set_ylim([0,31])\n",
    "    ax.set_yticklabels([30,25,20,15,10,5,1])    \n",
    "    #ax.set_xlabel('Performance')\n",
    "    ax.set_title('네이버 실시간 검색 순위: ' + stock_nm)\n",
    "    plt.show()"
   ]
  },
  {
   "cell_type": "code",
   "execution_count": 49,
   "metadata": {},
   "outputs": [
    {
     "data": {
      "image/png": "[encoded data removed]",
      "text/plain": [
       "<matplotlib.figure.Figure at 0xcc88c88>"
      ]
     },
     "metadata": {},
     "output_type": "display_data"
    }
   ],
   "source": [
    "time_chart('POSCO')"
   ]
  },
  {
   "cell_type": "code",
   "execution_count": 50,
   "metadata": {},
   "outputs": [
    {
     "data": {
      "image/png": "[encoded data removed]",
      "text/plain": [
       "<matplotlib.figure.Figure at 0xc5389e8>"
      ]
     },
     "metadata": {},
     "output_type": "display_data"
    }
   ],
   "source": [
    "time_chart('안랩')"
   ]
  },
  {
   "cell_type": "code",
   "execution_count": 51,
   "metadata": {},
   "outputs": [
    {
     "data": {
      "image/png": "[encoded data removed]",
      "text/plain": [
       "<matplotlib.figure.Figure at 0xd431da0>"
      ]
     },
     "metadata": {},
     "output_type": "display_data"
    }
   ],
   "source": [
    "time_chart('삼성전기')"
   ]
  },
  {
   "cell_type": "code",
   "execution_count": 52,
   "metadata": {},
   "outputs": [
    {
     "data": {
      "image/png": "[encoded data removed]",
      "text/plain": [
       "<matplotlib.figure.Figure at 0xcb76898>"
      ]
     },
     "metadata": {},
     "output_type": "display_data"
    }
   ],
   "source": [
    "time_chart('LG전자')"
   ]
  },
  {
   "cell_type": "code",
   "execution_count": 53,
   "metadata": {},
   "outputs": [
    {
     "data": {
      "image/png": "[encoded data removed]",
      "text/plain": [
       "<matplotlib.figure.Figure at 0xcbd04e0>"
      ]
     },
     "metadata": {},
     "output_type": "display_data"
    }
   ],
   "source": [
    "time_chart('우리들제약')"
   ]
  },
  {
   "cell_type": "code",
   "execution_count": null,
   "metadata": {
    "collapsed": true
   },
   "outputs": [],
   "source": []
  },
  {
   "cell_type": "code",
   "execution_count": null,
   "metadata": {
    "collapsed": true
   },
   "outputs": [],
   "source": []
  },
  {
   "cell_type": "code",
   "execution_count": null,
   "metadata": {
    "collapsed": true
   },
   "outputs": [],
   "source": [
    "''' \n",
    "아래부터는 작업용 참조 코드 ..........\n",
    "'''"
   ]
  },
  {
   "cell_type": "code",
   "execution_count": 23,
   "metadata": {
    "collapsed": true
   },
   "outputs": [],
   "source": [
    "\"\"\" url -> elem 객체 생성 함수 \"\"\"\n",
    "def url_elem(u):\n",
    "    url = u\n",
    "    resp = requests.get(url)\n",
    "    return html.fromstring(resp.text)"
   ]
  },
  {
   "cell_type": "code",
   "execution_count": 36,
   "metadata": {},
   "outputs": [
    {
     "data": {
      "image/png": "[encoded data removed]",
      "text/plain": [
       "<matplotlib.figure.Figure at 0xfaa0e10>"
      ]
     },
     "metadata": {},
     "output_type": "display_data"
    }
   ],
   "source": [
    "#1. 모든 시간대 포함 마스터 만들기\n",
    "ser_2 = Series([100]*len(df_final['date'].value_counts()))\n",
    "ser_2.index = pd.to_datetime(df_final['date'].value_counts().index)\n",
    "ser_2.name = 'rank_opt'\n",
    "\n",
    "#2. 특정 종목 건수 만들기\n",
    "df_stock = df_final[ df_final['stock'] == '안랩' ]\n",
    "ser = Series(df_stock['rank_new'])\n",
    "ser.index = pd.to_datetime(df_stock['date'])\n",
    "\n",
    "#3. 결측값(30위권 밖)인 경우 0으로 보정하기\n",
    "df_fff = pd.concat([ser_2,ser], axis=1)\n",
    "df_fff.drop(['rank_opt'], axis=1, inplace=True)\n",
    "df_fff.fillna(0, inplace=True)\n",
    "# print( df_fff.tail(10) )\n",
    "\n",
    "#4. 차트 그림\n",
    "# title_str = '네이버 실시간 검색 순위: ' + stock_nm\n",
    "# ax = df_fff['rank_new'].plot(kind='bar', rot=90)\n",
    "ax = df_fff.tail(120).plot(kind='bar', figsize=(20,4), alpha=0.5)  # 최종 120시간\n",
    "ax.set_ylim([0,31])\n",
    "ax.set_yticklabels([30,25,20,15,10,5,1])    \n",
    "plt.show()\n",
    "# ax.set_title(title_str)\n",
    "\n",
    "# ser_2[:10]\n",
    "# ser[10:]\n"
   ]
  },
  {
   "cell_type": "code",
   "execution_count": 72,
   "metadata": {
    "collapsed": true
   },
   "outputs": [],
   "source": [
    "# 네이버 증권 검색\n",
    "elem = url_elem('http://finance.naver.com/sise/lastsearch2.nhn')\n",
    "\n",
    "st = []\n",
    "for i in elem.cssselect('a.tltle'):  \n",
    "    if i.text_content() != '':   \n",
    "        st.append(i.text_content().strip())\n",
    "\n",
    "# 검색시간\n",
    "today = datetime.today()\n",
    "dt = today.strftime('%Y-%m-%d %H:%M:%S')\n",
    "\n",
    "# 순위\n",
    "N = np.arange(1,31)"
   ]
  },
  {
   "cell_type": "code",
   "execution_count": 73,
   "metadata": {
    "collapsed": true
   },
   "outputs": [],
   "source": [
    "df = DataFrame({'date':[dt] * 30, 'rank':N, 'stock':st}) # , index=None, columns=None)\n",
    "# df = DataFrame({[dt]*30, N, st}, index=None, columns=None)"
   ]
  },
  {
   "cell_type": "code",
   "execution_count": 79,
   "metadata": {},
   "outputs": [
    {
     "data": {
      "text/html": [
       "<div>\n",
       "<table border=\"1\" class=\"dataframe\">\n",
       "  <thead>\n",
       "    <tr style=\"text-align: right;\">\n",
       "      <th></th>\n",
       "      <th>date</th>\n",
       "      <th>rank</th>\n",
       "      <th>stock</th>\n",
       "    </tr>\n",
       "  </thead>\n",
       "  <tbody>\n",
       "    <tr>\n",
       "      <th>0</th>\n",
       "      <td>2017-03-28 18:06:26</td>\n",
       "      <td>1</td>\n",
       "      <td>안랩</td>\n",
       "    </tr>\n",
       "    <tr>\n",
       "      <th>1</th>\n",
       "      <td>2017-03-28 18:06:26</td>\n",
       "      <td>2</td>\n",
       "      <td>우리들제약</td>\n",
       "    </tr>\n",
       "    <tr>\n",
       "      <th>2</th>\n",
       "      <td>2017-03-28 18:06:26</td>\n",
       "      <td>3</td>\n",
       "      <td>성지건설</td>\n",
       "    </tr>\n",
       "    <tr>\n",
       "      <th>3</th>\n",
       "      <td>2017-03-28 18:06:26</td>\n",
       "      <td>4</td>\n",
       "      <td>써니전자</td>\n",
       "    </tr>\n",
       "    <tr>\n",
       "      <th>4</th>\n",
       "      <td>2017-03-28 18:06:26</td>\n",
       "      <td>5</td>\n",
       "      <td>넥스트칩</td>\n",
       "    </tr>\n",
       "    <tr>\n",
       "      <th>5</th>\n",
       "      <td>2017-03-28 18:06:26</td>\n",
       "      <td>6</td>\n",
       "      <td>모비스</td>\n",
       "    </tr>\n",
       "    <tr>\n",
       "      <th>6</th>\n",
       "      <td>2017-03-28 18:06:26</td>\n",
       "      <td>7</td>\n",
       "      <td>LG전자</td>\n",
       "    </tr>\n",
       "    <tr>\n",
       "      <th>7</th>\n",
       "      <td>2017-03-28 18:06:26</td>\n",
       "      <td>8</td>\n",
       "      <td>영진약품</td>\n",
       "    </tr>\n",
       "    <tr>\n",
       "      <th>8</th>\n",
       "      <td>2017-03-28 18:06:26</td>\n",
       "      <td>9</td>\n",
       "      <td>LG화학</td>\n",
       "    </tr>\n",
       "    <tr>\n",
       "      <th>9</th>\n",
       "      <td>2017-03-28 18:06:26</td>\n",
       "      <td>10</td>\n",
       "      <td>세우글로벌</td>\n",
       "    </tr>\n",
       "    <tr>\n",
       "      <th>10</th>\n",
       "      <td>2017-03-28 18:06:26</td>\n",
       "      <td>11</td>\n",
       "      <td>SK하이닉스</td>\n",
       "    </tr>\n",
       "    <tr>\n",
       "      <th>11</th>\n",
       "      <td>2017-03-28 18:06:26</td>\n",
       "      <td>12</td>\n",
       "      <td>현대차</td>\n",
       "    </tr>\n",
       "    <tr>\n",
       "      <th>12</th>\n",
       "      <td>2017-03-28 18:06:26</td>\n",
       "      <td>13</td>\n",
       "      <td>SG충방</td>\n",
       "    </tr>\n",
       "    <tr>\n",
       "      <th>13</th>\n",
       "      <td>2017-03-28 18:06:26</td>\n",
       "      <td>14</td>\n",
       "      <td>우리들휴브레인</td>\n",
       "    </tr>\n",
       "    <tr>\n",
       "      <th>14</th>\n",
       "      <td>2017-03-28 18:06:26</td>\n",
       "      <td>15</td>\n",
       "      <td>썬코어</td>\n",
       "    </tr>\n",
       "    <tr>\n",
       "      <th>15</th>\n",
       "      <td>2017-03-28 18:06:26</td>\n",
       "      <td>16</td>\n",
       "      <td>NAVER</td>\n",
       "    </tr>\n",
       "    <tr>\n",
       "      <th>16</th>\n",
       "      <td>2017-03-28 18:06:26</td>\n",
       "      <td>17</td>\n",
       "      <td>대신정보통신</td>\n",
       "    </tr>\n",
       "    <tr>\n",
       "      <th>17</th>\n",
       "      <td>2017-03-28 18:06:26</td>\n",
       "      <td>18</td>\n",
       "      <td>삼성전자</td>\n",
       "    </tr>\n",
       "    <tr>\n",
       "      <th>18</th>\n",
       "      <td>2017-03-28 18:06:26</td>\n",
       "      <td>19</td>\n",
       "      <td>에이텍</td>\n",
       "    </tr>\n",
       "    <tr>\n",
       "      <th>19</th>\n",
       "      <td>2017-03-28 18:06:26</td>\n",
       "      <td>20</td>\n",
       "      <td>한화케미칼</td>\n",
       "    </tr>\n",
       "    <tr>\n",
       "      <th>20</th>\n",
       "      <td>2017-03-28 18:06:26</td>\n",
       "      <td>21</td>\n",
       "      <td>아남전자</td>\n",
       "    </tr>\n",
       "    <tr>\n",
       "      <th>21</th>\n",
       "      <td>2017-03-28 18:06:26</td>\n",
       "      <td>22</td>\n",
       "      <td>DSR</td>\n",
       "    </tr>\n",
       "    <tr>\n",
       "      <th>22</th>\n",
       "      <td>2017-03-28 18:06:26</td>\n",
       "      <td>23</td>\n",
       "      <td>대우조선해양</td>\n",
       "    </tr>\n",
       "    <tr>\n",
       "      <th>23</th>\n",
       "      <td>2017-03-28 18:06:26</td>\n",
       "      <td>24</td>\n",
       "      <td>현대상선</td>\n",
       "    </tr>\n",
       "    <tr>\n",
       "      <th>24</th>\n",
       "      <td>2017-03-28 18:06:26</td>\n",
       "      <td>25</td>\n",
       "      <td>POSCO</td>\n",
       "    </tr>\n",
       "    <tr>\n",
       "      <th>25</th>\n",
       "      <td>2017-03-28 18:06:26</td>\n",
       "      <td>26</td>\n",
       "      <td>대한항공</td>\n",
       "    </tr>\n",
       "    <tr>\n",
       "      <th>26</th>\n",
       "      <td>2017-03-28 18:06:26</td>\n",
       "      <td>27</td>\n",
       "      <td>세미콘라이트</td>\n",
       "    </tr>\n",
       "    <tr>\n",
       "      <th>27</th>\n",
       "      <td>2017-03-28 18:06:26</td>\n",
       "      <td>28</td>\n",
       "      <td>CJ E&amp;M</td>\n",
       "    </tr>\n",
       "    <tr>\n",
       "      <th>28</th>\n",
       "      <td>2017-03-28 18:06:26</td>\n",
       "      <td>29</td>\n",
       "      <td>엔씨소프트</td>\n",
       "    </tr>\n",
       "    <tr>\n",
       "      <th>29</th>\n",
       "      <td>2017-03-28 18:06:26</td>\n",
       "      <td>30</td>\n",
       "      <td>우성사료</td>\n",
       "    </tr>\n",
       "  </tbody>\n",
       "</table>\n",
       "</div>"
      ],
      "text/plain": [
       "                   date  rank    stock\n",
       "0   2017-03-28 18:06:26     1       안랩\n",
       "1   2017-03-28 18:06:26     2    우리들제약\n",
       "2   2017-03-28 18:06:26     3     성지건설\n",
       "3   2017-03-28 18:06:26     4     써니전자\n",
       "4   2017-03-28 18:06:26     5     넥스트칩\n",
       "5   2017-03-28 18:06:26     6      모비스\n",
       "6   2017-03-28 18:06:26     7     LG전자\n",
       "7   2017-03-28 18:06:26     8     영진약품\n",
       "8   2017-03-28 18:06:26     9     LG화학\n",
       "9   2017-03-28 18:06:26    10    세우글로벌\n",
       "10  2017-03-28 18:06:26    11   SK하이닉스\n",
       "11  2017-03-28 18:06:26    12      현대차\n",
       "12  2017-03-28 18:06:26    13     SG충방\n",
       "13  2017-03-28 18:06:26    14  우리들휴브레인\n",
       "14  2017-03-28 18:06:26    15      썬코어\n",
       "15  2017-03-28 18:06:26    16    NAVER\n",
       "16  2017-03-28 18:06:26    17   대신정보통신\n",
       "17  2017-03-28 18:06:26    18     삼성전자\n",
       "18  2017-03-28 18:06:26    19      에이텍\n",
       "19  2017-03-28 18:06:26    20    한화케미칼\n",
       "20  2017-03-28 18:06:26    21     아남전자\n",
       "21  2017-03-28 18:06:26    22      DSR\n",
       "22  2017-03-28 18:06:26    23   대우조선해양\n",
       "23  2017-03-28 18:06:26    24     현대상선\n",
       "24  2017-03-28 18:06:26    25    POSCO\n",
       "25  2017-03-28 18:06:26    26     대한항공\n",
       "26  2017-03-28 18:06:26    27   세미콘라이트\n",
       "27  2017-03-28 18:06:26    28   CJ E&M\n",
       "28  2017-03-28 18:06:26    29    엔씨소프트\n",
       "29  2017-03-28 18:06:26    30     우성사료"
      ]
     },
     "execution_count": 79,
     "metadata": {},
     "output_type": "execute_result"
    }
   ],
   "source": [
    "def naver_db():\n",
    "    elem = url_elem('http://finance.naver.com/sise/lastsearch2.nhn')\n",
    "    \n",
    "    st = []\n",
    "    for i in elem.cssselect('a.tltle'):  \n",
    "        if i.text_content() != '':   \n",
    "            st.append(i.text_content().strip())\n",
    "            \n",
    "    # 검색시간\n",
    "    today = datetime.today()\n",
    "    dt = today.strftime('%Y-%m-%d %H:%M:%S')\n",
    "    \n",
    "    # 순위\n",
    "    N = np.arange(1,31)\n",
    "    \n",
    "    return DataFrame({'date':[dt] * 30, 'rank':N, 'stock':st}) # , index=None, columns=None)\n",
    "\n",
    "df = naver_db()\n",
    "df"
   ]
  },
  {
   "cell_type": "code",
   "execution_count": 44,
   "metadata": {
    "collapsed": true
   },
   "outputs": [],
   "source": [
    "# 테이블 생성\n",
    "con = sqlite3.connect('naver_db.sqlite')"
   ]
  },
  {
   "cell_type": "code",
   "execution_count": null,
   "metadata": {
    "collapsed": true
   },
   "outputs": [],
   "source": [
    "query = \"\"\"\n",
    "CREATE TABLE naver_stock_rank\n",
    "(date VARCHAR(20), rank INTEGER,\n",
    " stock VARCHAR(30)\n",
    ");\"\"\"\n",
    "con.execute(query)\n",
    "con.commit()"
   ]
  },
  {
   "cell_type": "code",
   "execution_count": 83,
   "metadata": {},
   "outputs": [
    {
     "data": {
      "text/plain": [
       "<sqlite3.Cursor at 0xa444e30>"
      ]
     },
     "execution_count": 83,
     "metadata": {},
     "output_type": "execute_result"
    }
   ],
   "source": [
    "# 테이블 삭제\n",
    "query = \"\"\" DROP Table if Exists \"naver_stock_rank\" \"\"\"\n",
    "con.execute(query)\n",
    "#con.colse()\n",
    "#con.execute(query)\n",
    "#con.commit()"
   ]
  },
  {
   "cell_type": "code",
   "execution_count": 74,
   "metadata": {
    "collapsed": true
   },
   "outputs": [],
   "source": [
    "# 테이블 insert\n",
    "# https://www.ryanbaumann.com/blog/2016/4/30/python-pandas-tosql-only-insert-new-rows\n",
    "df.to_sql('naver_stock_rank', con, if_exists='append', index=False)"
   ]
  },
  {
   "cell_type": "code",
   "execution_count": null,
   "metadata": {
    "collapsed": true
   },
   "outputs": [],
   "source": [
    "# 테이블 읽기\n",
    "pd.read_sql('select * from naver_stock_rank', con)"
   ]
  },
  {
   "cell_type": "code",
   "execution_count": 89,
   "metadata": {
    "collapsed": true
   },
   "outputs": [],
   "source": [
    "for i in range(5):\n",
    "    # print(time.time())\n",
    "    time.sleep(3600) # 1시간 지연"
   ]
  }
 ],
 "metadata": {
  "kernelspec": {
   "display_name": "Python 3",
   "language": "python",
   "name": "python3"
  },
  "language_info": {
   "codemirror_mode": {
    "name": "ipython",
    "version": 3
   },
   "file_extension": ".py",
   "mimetype": "text/x-python",
   "name": "python",
   "nbconvert_exporter": "python",
   "pygments_lexer": "ipython3",
   "version": "3.6.0"
  }
 },
 "nbformat": 4,
 "nbformat_minor": 2
}
